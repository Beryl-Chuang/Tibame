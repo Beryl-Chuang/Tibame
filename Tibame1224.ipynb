{
  "nbformat": 4,
  "nbformat_minor": 0,
  "metadata": {
    "colab": {
      "provenance": [],
      "authorship_tag": "ABX9TyOhfEIJrGHJcDO5XBsao+Mu",
      "include_colab_link": true
    },
    "kernelspec": {
      "name": "python3",
      "display_name": "Python 3"
    },
    "language_info": {
      "name": "python"
    }
  },
  "cells": [
    {
      "cell_type": "markdown",
      "metadata": {
        "id": "view-in-github",
        "colab_type": "text"
      },
      "source": [
        "<a href=\"https://colab.research.google.com/github/Beryl-Chuang/Tibame/blob/main/Tibame1224.ipynb\" target=\"_parent\"><img src=\"https://colab.research.google.com/assets/colab-badge.svg\" alt=\"Open In Colab\"/></a>"
      ]
    },
    {
      "cell_type": "markdown",
      "source": [
        "```python\n",
        "2024/12/24-第一堂課\n",
        "```"
      ],
      "metadata": {
        "id": "TKxTZcI_mABW"
      }
    },
    {
      "cell_type": "code",
      "source": [
        "weight=float(input(\"請輸入體重:\"))\n",
        "height=float(input(\"請輸入身高:\"))\n",
        "bmi=weight/(height/100)**2\n",
        "print(\"體重:\",weight)\n",
        "print(\"身高:\",height)\n",
        "print(\"BMI:\",bmi)\n",
        "\n",
        "if bmi>25:\n",
        "  print(\"過重\\n少吃多動\")\n",
        "else:\n",
        "  print(\"正常\\nGreat!\")\n"
      ],
      "metadata": {
        "colab": {
          "base_uri": "https://localhost:8080/"
        },
        "id": "fUkk8io2mi4n",
        "outputId": "5aceb263-a33c-478f-ca37-559bae16574a"
      },
      "execution_count": 16,
      "outputs": [
        {
          "output_type": "stream",
          "name": "stdout",
          "text": [
            "請輸入體重:80\n",
            "請輸入身高:180\n",
            "體重: 80.0\n",
            "身高: 180.0\n",
            "BMI: 24.691358024691358\n",
            "正常\n",
            "Great!\n"
          ]
        }
      ]
    },
    {
      "cell_type": "code",
      "source": [
        "import random\n",
        "\n",
        "my=int(input(\"0剪刀,1石頭,2布:\"))\n",
        "com=random.randint(0,2)\n",
        "trans=[\"剪刀\",\"石頭\",\"布\"]\n",
        "print(\"我出的:\",trans[my])\n",
        "print(\"電腦出的:\",trans[com])\n",
        "\n",
        "# o->1->2->0(3)\n",
        "\n",
        "if my==(com+1)%3:  #com等於2布的時候，要減3(my=0剪刀)\n",
        "  print(\"Win\")\n",
        "elif com==(my+1)%3:\n",
        "  print(\"Lose\")\n",
        "else:\n",
        "  print(\"Even\")"
      ],
      "metadata": {
        "colab": {
          "base_uri": "https://localhost:8080/"
        },
        "id": "vtbUz7_ufyNd",
        "outputId": "38886814-ae55-46ad-a944-bd6c7061251f"
      },
      "execution_count": 24,
      "outputs": [
        {
          "output_type": "stream",
          "name": "stdout",
          "text": [
            "0剪刀,1石頭,2布:0\n",
            "我出的: 剪刀\n",
            "電腦出的: 石頭\n",
            "Lose\n"
          ]
        }
      ]
    },
    {
      "cell_type": "code",
      "source": [
        "#H.W.\n",
        "import random\n",
        "my=int(input(\"輸入0~5:\"))\n",
        "com=random.randint(0,5)\n",
        "#my=5\n",
        "#com=3\n",
        "trans=[\"0剪刀\",\"0石頭\",\"0布\",\n",
        "       \"1剪刀\",\"1石頭\",\"1布\"]\n",
        "print(\"My:\",trans[my])\n",
        "print(\"COM:\",trans[com])\n",
        "\n",
        "if my//3==com//3:\n",
        "  if my%3==(com+1)%3:\n",
        "    print(\"Win\")\n",
        "  elif com%3==(my+1)%3:\n",
        "    print(\"Lose\")\n",
        "  else:\n",
        "    print(\"Even\")\n",
        "else:\n",
        "  print(\"Even(different group)\")"
      ],
      "metadata": {
        "colab": {
          "base_uri": "https://localhost:8080/"
        },
        "id": "sRTZWztFxc3b",
        "outputId": "ec869edd-d100-4daa-ac8f-d74a95793f3e"
      },
      "execution_count": 39,
      "outputs": [
        {
          "output_type": "stream",
          "name": "stdout",
          "text": [
            "輸入0~5:2\n",
            "My: 0布\n",
            "COM: 0剪刀\n",
            "Lose\n"
          ]
        }
      ]
    }
  ]
}