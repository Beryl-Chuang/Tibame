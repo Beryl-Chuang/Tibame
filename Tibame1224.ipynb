{
  "nbformat": 4,
  "nbformat_minor": 0,
  "metadata": {
    "colab": {
      "provenance": [],
      "authorship_tag": "ABX9TyM3VEf3cbUpI8qVP5FnXxw+",
      "include_colab_link": true
    },
    "kernelspec": {
      "name": "python3",
      "display_name": "Python 3"
    },
    "language_info": {
      "name": "python"
    }
  },
  "cells": [
    {
      "cell_type": "markdown",
      "metadata": {
        "id": "view-in-github",
        "colab_type": "text"
      },
      "source": [
        "<a href=\"https://colab.research.google.com/github/Beryl-Chuang/Tibame/blob/main/Tibame1224.ipynb\" target=\"_parent\"><img src=\"https://colab.research.google.com/assets/colab-badge.svg\" alt=\"Open In Colab\"/></a>"
      ]
    },
    {
      "cell_type": "code",
      "execution_count": null,
      "metadata": {
        "id": "Ut4KsJJLa1J5"
      },
      "outputs": [],
      "source": []
    },
    {
      "cell_type": "markdown",
      "source": [
        "```python\n",
        "第一個\n",
        "\n",
        "\n",
        "```"
      ],
      "metadata": {
        "id": "TKxTZcI_mABW"
      }
    },
    {
      "cell_type": "code",
      "source": [
        "weight=float(input(\"請輸入體重:\"))\n",
        "height=float(input(\"請輸入身高:\"))\n",
        "bmi=weight/(height/100)**2\n",
        "print(\"體重:\",weight)\n",
        "print(\"身高:\",height)\n",
        "print(\"BMI:\",bmi)\n",
        "\n",
        "if bmi>25:\n",
        "  print(\"過重\\n少吃多動\")\n",
        "else:\n",
        "  print(\"正常\\nGreat!\")\n"
      ],
      "metadata": {
        "colab": {
          "base_uri": "https://localhost:8080/"
        },
        "id": "fUkk8io2mi4n",
        "outputId": "5aceb263-a33c-478f-ca37-559bae16574a"
      },
      "execution_count": 16,
      "outputs": [
        {
          "output_type": "stream",
          "name": "stdout",
          "text": [
            "請輸入體重:80\n",
            "請輸入身高:180\n",
            "體重: 80.0\n",
            "身高: 180.0\n",
            "BMI: 24.691358024691358\n",
            "正常\n",
            "Great!\n"
          ]
        }
      ]
    }
  ]
}