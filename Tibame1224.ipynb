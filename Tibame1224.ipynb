{
  "nbformat": 4,
  "nbformat_minor": 0,
  "metadata": {
    "colab": {
      "provenance": [],
      "authorship_tag": "ABX9TyMgiJxDdGnnF/jSpGDI9/l9",
      "include_colab_link": true
    },
    "kernelspec": {
      "name": "python3",
      "display_name": "Python 3"
    },
    "language_info": {
      "name": "python"
    }
  },
  "cells": [
    {
      "cell_type": "markdown",
      "metadata": {
        "id": "view-in-github",
        "colab_type": "text"
      },
      "source": [
        "<a href=\"https://colab.research.google.com/github/Beryl-Chuang/Tibame/blob/main/Tibame1224.ipynb\" target=\"_parent\"><img src=\"https://colab.research.google.com/assets/colab-badge.svg\" alt=\"Open In Colab\"/></a>"
      ]
    },
    {
      "cell_type": "code",
      "execution_count": null,
      "metadata": {
        "id": "Ut4KsJJLa1J5"
      },
      "outputs": [],
      "source": []
    },
    {
      "cell_type": "markdown",
      "source": [
        "```python\n",
        "第一個\n",
        "\n",
        "\n",
        "```"
      ],
      "metadata": {
        "id": "TKxTZcI_mABW"
      }
    },
    {
      "cell_type": "code",
      "source": [
        "weight=40\n",
        "height=160\n",
        "print(weight)\n",
        "print(height)\n",
        "print(weight/(height/100)**2)"
      ],
      "metadata": {
        "colab": {
          "base_uri": "https://localhost:8080/"
        },
        "id": "fUkk8io2mi4n",
        "outputId": "05882bf9-9fe4-45e4-c06c-7fd07f64fd08"
      },
      "execution_count": 6,
      "outputs": [
        {
          "output_type": "stream",
          "name": "stdout",
          "text": [
            "40\n",
            "160\n",
            "15.624999999999996\n"
          ]
        }
      ]
    }
  ]
}